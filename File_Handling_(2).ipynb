{
  "cells": [
    {
      "cell_type": "markdown",
      "metadata": {
        "id": "view-in-github",
        "colab_type": "text"
      },
      "source": [
        "<a href=\"https://colab.research.google.com/github/0402subrahmanyam/Python-New/blob/module-3/File_Handling_(2).ipynb\" target=\"_parent\"><img src=\"https://colab.research.google.com/assets/colab-badge.svg\" alt=\"Open In Colab\"/></a>"
      ]
    },
    {
      "cell_type": "code",
      "execution_count": null,
      "id": "0b40a8a3",
      "metadata": {
        "id": "0b40a8a3",
        "outputId": "18ec0fd3-35ca-4867-92c6-70a2976b530a"
      },
      "outputs": [
        {
          "name": "stdout",
          "output_type": "stream",
          "text": [
            "gitam deemed to be universitybtech student\n"
          ]
        }
      ],
      "source": [
        "f=open(\"C:\\\\Users\\LENOVO\\OneDrive\\Desktop\\dvs.txt\", \"r\")\n",
        "print(f.read())"
      ]
    },
    {
      "cell_type": "code",
      "execution_count": null,
      "id": "ddda68eb",
      "metadata": {
        "id": "ddda68eb",
        "outputId": "1db32c83-fc02-4e26-9316-642370487992"
      },
      "outputs": [
        {
          "name": "stdout",
          "output_type": "stream",
          "text": [
            "gitam\n"
          ]
        }
      ],
      "source": [
        "f = open(\"C:\\\\Users\\LENOVO\\OneDrive\\Desktop\\dvs.txt\", \"r\")\n",
        "print(f.read(5))"
      ]
    },
    {
      "cell_type": "code",
      "execution_count": null,
      "id": "fe8f9782",
      "metadata": {
        "id": "fe8f9782",
        "outputId": "a2fe8da6-01e7-44cd-c385-ded8432b1a44"
      },
      "outputs": [
        {
          "name": "stdout",
          "output_type": "stream",
          "text": [
            "gitam deemed to be university\n",
            "\n"
          ]
        }
      ],
      "source": [
        "f = open(\"C:\\\\Users\\LENOVO\\OneDrive\\Desktop\\dvs.txt\", \"r\")\n",
        "print(f.readline())\n",
        "print(f.readline())"
      ]
    },
    {
      "cell_type": "code",
      "execution_count": null,
      "id": "890b90d5",
      "metadata": {
        "id": "890b90d5",
        "outputId": "2d9f32d5-736f-4751-b503-f82d3a8d8741"
      },
      "outputs": [
        {
          "name": "stdout",
          "output_type": "stream",
          "text": [
            "gitam deemed to be university\n"
          ]
        }
      ],
      "source": [
        "f = open(\"C:\\\\Users\\LENOVO\\OneDrive\\Desktop\\dvs.txt\", \"r\")\n",
        "for x in f:\n",
        "  print(x)"
      ]
    },
    {
      "cell_type": "code",
      "execution_count": null,
      "id": "59eb4f48",
      "metadata": {
        "id": "59eb4f48",
        "outputId": "79f8f9df-8ce1-4958-a35e-62862ab31c03"
      },
      "outputs": [
        {
          "name": "stdout",
          "output_type": "stream",
          "text": [
            "gitam deemed to be university\n"
          ]
        }
      ],
      "source": [
        "f = open(\"C:\\\\Users\\LENOVO\\OneDrive\\Desktop\\dvs.txt\", \"r\")\n",
        "print(f.readline())\n",
        "f.close()"
      ]
    },
    {
      "cell_type": "code",
      "execution_count": null,
      "id": "c08581df",
      "metadata": {
        "id": "c08581df",
        "outputId": "287f0c7c-ecf9-4be8-d9cd-2c721bd2562d"
      },
      "outputs": [
        {
          "name": "stdout",
          "output_type": "stream",
          "text": [
            "gitam deemed to be universitybtech student\n"
          ]
        }
      ],
      "source": [
        "f = open(\"C:\\\\Users\\LENOVO\\OneDrive\\Desktop\\dvs.txt\", \"a\")\n",
        "f.write(\"btech student\")\n",
        "f.close()\n",
        "f = open(\"C:\\\\Users\\LENOVO\\OneDrive\\Desktop\\dvs.txt\", \"r\")\n",
        "print(f.read())"
      ]
    },
    {
      "cell_type": "code",
      "execution_count": null,
      "id": "2a91409e",
      "metadata": {
        "id": "2a91409e"
      },
      "outputs": [],
      "source": [
        "##Append a file\n",
        "f = open(\"C:\\\\Users\\LENOVO\\OneDrive\\Desktop\\dvs.txt\", \"a\")\n",
        "f.write(\"\\nand my name is dvs\")\n",
        "f.close()"
      ]
    },
    {
      "cell_type": "code",
      "execution_count": null,
      "id": "83c84c03",
      "metadata": {
        "id": "83c84c03",
        "outputId": "0c1ad3bf-1bbc-4d49-9035-21b6866bb019"
      },
      "outputs": [
        {
          "name": "stdout",
          "output_type": "stream",
          "text": [
            "gitam deemed to be universitybtech student\n",
            "\n"
          ]
        }
      ],
      "source": [
        "##Copy a file\n",
        "f=open(\"C:\\\\Users\\LENOVO\\OneDrive\\Desktop\\dvs.txt\",\"r\")\n",
        "b=f.readline()\n",
        "f.close()\n",
        "f1=open(\"C:\\\\Users\\LENOVO\\OneDrive\\Desktop\\dvs.txt\",\"w\")\n",
        "f1.writelines(b)\n",
        "f1.close()\n",
        "f2=open(\"C:\\\\Users\\LENOVO\\OneDrive\\Desktop\\dvs.txt\",\"r\")\n",
        "for i in f2:\n",
        "    print(i)\n",
        "f2.close()"
      ]
    },
    {
      "cell_type": "code",
      "execution_count": null,
      "id": "9f6064a9",
      "metadata": {
        "id": "9f6064a9"
      },
      "outputs": [],
      "source": [
        "##creating a file\n",
        "f=open(\"C:\\\\Users\\LENOVO\\OneDrive\\Desktop\\dvs.txt\",\"r\")\n",
        "f.close()"
      ]
    },
    {
      "cell_type": "code",
      "execution_count": null,
      "id": "f74f2723",
      "metadata": {
        "id": "f74f2723",
        "outputId": "3e6d2eef-1e2f-4c01-cde4-942eccc4c665"
      },
      "outputs": [
        {
          "name": "stdout",
          "output_type": "stream",
          "text": [
            "   s.no lunch (veg) lunch (non veg) tiffins   dinner \n",
            "0     1    biryani      dum biryani    idly       dal\n",
            "1     2  fried rice  egg fried rice    dosa     rasam\n",
            "2     3      paneer         chicken   halva  icecream\n"
          ]
        }
      ],
      "source": [
        "import pandas as pd\n",
        "\n",
        "df = pd.read_csv('C:\\\\Users\\LENOVO\\OneDrive\\Desktop\\Food menu 1.csv')\n",
        "\n",
        "print(df.to_string())\n"
      ]
    },
    {
      "cell_type": "code",
      "execution_count": null,
      "id": "f4c6cb53",
      "metadata": {
        "id": "f4c6cb53",
        "outputId": "520f28bc-f96f-47df-d905-ab027ec9d029"
      },
      "outputs": [
        {
          "name": "stdout",
          "output_type": "stream",
          "text": [
            "0    1\n",
            "1    7\n",
            "2    5\n",
            "3    8\n",
            "4    3\n",
            "dtype: int64\n"
          ]
        }
      ],
      "source": [
        "import pandas as nsk\n",
        "c=[1,7,5,8,3]\n",
        "z=nsk.Series(c)\n",
        "print(z)"
      ]
    },
    {
      "cell_type": "code",
      "execution_count": null,
      "id": "e076c15d",
      "metadata": {
        "id": "e076c15d",
        "outputId": "aebe9498-5088-4f2f-c411-de6928806e0f"
      },
      "outputs": [
        {
          "name": "stdout",
          "output_type": "stream",
          "text": [
            "0    1.0\n",
            "1    7.5\n",
            "2    8.0\n",
            "3    3.0\n",
            "dtype: float64\n"
          ]
        }
      ],
      "source": [
        "import pandas as nsk\n",
        "c=[1,7.5,8,3]\n",
        "z=nsk.Series(c)\n",
        "print(z)"
      ]
    },
    {
      "cell_type": "code",
      "execution_count": null,
      "id": "dbaeaa9e",
      "metadata": {
        "id": "dbaeaa9e",
        "outputId": "8b987636-450a-42b6-8f0e-3e6ee084cf84"
      },
      "outputs": [
        {
          "name": "stdout",
          "output_type": "stream",
          "text": [
            "   s.no  marks\n",
            "0     1   90.0\n",
            "2     3  100.0\n"
          ]
        }
      ],
      "source": [
        "import pandas as pd\n",
        "df = pd.read_csv('C:\\\\Users\\LENOVO\\Downloads\\Food menu.csv')\n",
        "new_df = df.dropna()\n",
        "print(new_df.to_string())"
      ]
    },
    {
      "cell_type": "code",
      "execution_count": null,
      "id": "1be0cde1",
      "metadata": {
        "id": "1be0cde1",
        "outputId": "90513704-a61c-47c8-fa68-2aa006e7c501"
      },
      "outputs": [
        {
          "name": "stdout",
          "output_type": "stream",
          "text": [
            "   sno     names  marks\n",
            "0    1    subbu    93.0\n",
            "1    2    harsha   95.0\n",
            "2    3  prabhash   95.0\n",
            "3    4   sumanth   96.0\n"
          ]
        }
      ],
      "source": [
        "import pandas as pd\n",
        "df = pd.read_csv('C:\\\\Users\\LENOVO\\OneDrive\\Documents\\info.csv')\n",
        "df.fillna(95, inplace = True)\n",
        "print(df.to_string())"
      ]
    },
    {
      "cell_type": "code",
      "execution_count": null,
      "id": "77007166",
      "metadata": {
        "id": "77007166",
        "outputId": "ea1fefce-c057-46bc-9825-85141e609607"
      },
      "outputs": [
        {
          "name": "stdout",
          "output_type": "stream",
          "text": [
            "   sno     names  marks\n",
            "0    1    subbu    98.0\n",
            "1    2    harsha   95.0\n",
            "2    3  prabhash    NaN\n",
            "3    4   sumanth   96.0\n"
          ]
        }
      ],
      "source": [
        "import pandas as pd\n",
        "df = pd.read_csv('C:\\\\Users\\LENOVO\\OneDrive\\Documents\\info.csv')\n",
        "for x in df.index:\n",
        " if df.loc[x, \"marks\"] == 93:\n",
        "   df.loc[x, \"marks\"] = 98\n",
        "print(df.to_string())"
      ]
    },
    {
      "cell_type": "code",
      "execution_count": null,
      "id": "36daf6e9",
      "metadata": {
        "id": "36daf6e9",
        "outputId": "10f8cf19-9546-48a1-ce8b-54f4a4f55f6d"
      },
      "outputs": [
        {
          "name": "stdout",
          "output_type": "stream",
          "text": [
            "   sno    names        dob\n",
            "0    1    subbu 2003-12-21\n",
            "1    2   harsha 2004-04-11\n",
            "2    3  koushik 2003-09-18\n",
            "3    4  sumanth 2003-12-27\n"
          ]
        }
      ],
      "source": [
        "import pandas as pd\n",
        "df = pd.read_csv('C:\\\\Users\\LENOVO\\OneDrive\\Desktop\\dob.csv')\n",
        "df['dob'] = pd.to_datetime(df['dob'])\n",
        "print(df.to_string())"
      ]
    },
    {
      "cell_type": "code",
      "execution_count": null,
      "id": "4f95aee1",
      "metadata": {
        "id": "4f95aee1",
        "outputId": "2821fc30-7c2c-4cce-da3b-4fc629d84dcf"
      },
      "outputs": [
        {
          "name": "stdout",
          "output_type": "stream",
          "text": [
            "    s.no      Name  age      mobile         mail  Unnamed: 5 password  \\\n",
            "0      1       Dvs   18  9874581585  **@gitam.in         NaN    *****   \n",
            "1      2    chaitu   18  7780442077  **@gitam.in         NaN    *****   \n",
            "2      3   aravind   17  7780442088  **@gitam.in         NaN   ******   \n",
            "3      4   harsha    17  7780442011  **@gitam.in         NaN    *****   \n",
            "4      5   karthik   17  9875638271  **@gitam.in         NaN    *****   \n",
            "5      6     bhagy   18  8294629163  **@gitam.in         NaN    *****   \n",
            "6      7    nithin   19  2738263826  **@gitam.in         NaN    *****   \n",
            "7      8   sumanth   22  6382936237  **@gitam.in         NaN     ****   \n",
            "8      9      banu   20  3563726372  **@gitam.in         NaN   ******   \n",
            "9     10      puli   20  8982773628  **@gitam.in         NaN    *****   \n",
            "10    11   dhanush   18  9989348838  **@gitam.in         NaN     ****   \n",
            "11    12  prabhas    18  7981769148  **@gitam.in         NaN    *****   \n",
            "12    13     pavan   18  8341287189  **@gitam.in         NaN   ******   \n",
            "13    14   pranav    19  9989368264  **@gitam.in         NaN    *****   \n",
            "14    15     kiran   18  4729346292  **@gitam.in         NaN   ******   \n",
            "15    16     tarun   18  9273461836  **@gitam.in         NaN    *****   \n",
            "16    17     varun   18  8193728361  **@gitam.in         NaN    *****   \n",
            "17    18    sativk   18  9361836173  **@gitam.in         NaN     ****   \n",
            "18    19   jayanth   19  9374683654  **@gitam.in         NaN     ****   \n",
            "19    20   sandeep   19  9163518458  **@gitam.in         NaN    *****   \n",
            "20    21      sai    18  8631458537  **@gitam.in         NaN    *****   \n",
            "21    22    charan   18  9784143538  **@gitam.in         NaN     ****   \n",
            "22    23    mukesh   18  9135926954  **@gitam.in         NaN    *****   \n",
            "23    24    vikey    18  9156359126  **@gitam.in         NaN    *****   \n",
            "24    25      para   18  9641586458  **@gitam.in         NaN    *****   \n",
            "25    26   doremon   18  9162549145  **@gitam.in         NaN   ******   \n",
            "26    27     phani   18  9135693591  **@gitam.in         NaN    *****   \n",
            "27    28    partiv   18  9126551955  **@gitam.in         NaN    *****   \n",
            "28    29     hari    19  1958194192  **@gitam.in         NaN    *****   \n",
            "29    30     surya   19  9495419516  **@gitam.in         NaN    *****   \n",
            "\n",
            "    Unnamed: 7  Unnamed: 8  Unnamed: 9  Unnamed: 10  Unnamed: 11  Unnamed: 12  \\\n",
            "0          NaN         NaN         NaN          NaN          NaN          NaN   \n",
            "1          NaN         NaN         NaN          NaN          NaN          NaN   \n",
            "2          NaN         NaN         NaN          NaN          NaN          NaN   \n",
            "3          NaN         NaN         NaN          NaN          NaN          NaN   \n",
            "4          NaN         NaN         NaN          NaN          NaN          NaN   \n",
            "5          NaN         NaN         NaN          NaN          NaN          NaN   \n",
            "6          NaN         NaN         NaN          NaN          NaN          NaN   \n",
            "7          NaN         NaN         NaN          NaN          NaN          NaN   \n",
            "8          NaN         NaN         NaN          NaN          NaN          NaN   \n",
            "9          NaN         NaN         NaN          NaN          NaN          NaN   \n",
            "10         NaN         NaN         NaN          NaN          NaN          NaN   \n",
            "11         NaN         NaN         NaN          NaN          NaN          NaN   \n",
            "12         NaN         NaN         NaN          NaN          NaN          NaN   \n",
            "13         NaN         NaN         NaN          NaN          NaN          NaN   \n",
            "14         NaN         NaN         NaN          NaN          NaN          NaN   \n",
            "15         NaN         NaN         NaN          NaN          NaN          NaN   \n",
            "16         NaN         NaN         NaN          NaN          NaN          NaN   \n",
            "17         NaN         NaN         NaN          NaN          NaN          NaN   \n",
            "18         NaN         NaN         NaN          NaN          NaN          NaN   \n",
            "19         NaN         NaN         NaN          NaN          NaN          NaN   \n",
            "20         NaN         NaN         NaN          NaN          NaN          NaN   \n",
            "21         NaN         NaN         NaN          NaN          NaN          NaN   \n",
            "22         NaN         NaN         NaN          NaN          NaN          NaN   \n",
            "23         NaN         NaN         NaN          NaN          NaN          NaN   \n",
            "24         NaN         NaN         NaN          NaN          NaN          NaN   \n",
            "25         NaN         NaN         NaN          NaN          NaN          NaN   \n",
            "26         NaN         NaN         NaN          NaN          NaN          NaN   \n",
            "27         NaN         NaN         NaN          NaN          NaN          NaN   \n",
            "28         NaN         NaN         NaN          NaN          NaN          NaN   \n",
            "29         NaN         NaN         NaN          NaN          NaN          NaN   \n",
            "\n",
            "   Unnamed: 13  \n",
            "0          NaN  \n",
            "1          NaN  \n",
            "2          NaN  \n",
            "3          NaN  \n",
            "4          NaN  \n",
            "5          NaN  \n",
            "6               \n",
            "7          NaN  \n",
            "8          NaN  \n",
            "9          NaN  \n",
            "10         NaN  \n",
            "11         NaN  \n",
            "12         NaN  \n",
            "13         NaN  \n",
            "14         NaN  \n",
            "15         NaN  \n",
            "16         NaN  \n",
            "17         NaN  \n",
            "18         NaN  \n",
            "19         NaN  \n",
            "20         NaN  \n",
            "21         NaN  \n",
            "22         NaN  \n",
            "23         NaN  \n",
            "24         NaN  \n",
            "25         NaN  \n",
            "26         NaN  \n",
            "27         NaN  \n",
            "28         NaN  \n",
            "29         NaN  \n"
          ]
        }
      ],
      "source": [
        "import pandas as pd\n",
        "a = pd.read_csv('C:\\\\Users\\LENOVO\\OneDrive\\Desktop\\data.csv')\n",
        "b = pd.DataFrame(a)\n",
        "print(b)"
      ]
    },
    {
      "cell_type": "code",
      "execution_count": null,
      "id": "6ba26ed1",
      "metadata": {
        "id": "6ba26ed1",
        "outputId": "e89693f1-2a5e-46d1-a400-693d9f3a870d"
      },
      "outputs": [
        {
          "data": {
            "text/html": [
              "<div>\n",
              "<style scoped>\n",
              "    .dataframe tbody tr th:only-of-type {\n",
              "        vertical-align: middle;\n",
              "    }\n",
              "\n",
              "    .dataframe tbody tr th {\n",
              "        vertical-align: top;\n",
              "    }\n",
              "\n",
              "    .dataframe thead th {\n",
              "        text-align: right;\n",
              "    }\n",
              "</style>\n",
              "<table border=\"1\" class=\"dataframe\">\n",
              "  <thead>\n",
              "    <tr style=\"text-align: right;\">\n",
              "      <th></th>\n",
              "      <th>mobile</th>\n",
              "    </tr>\n",
              "  </thead>\n",
              "  <tbody>\n",
              "    <tr>\n",
              "      <th>min</th>\n",
              "      <td>1958194192</td>\n",
              "    </tr>\n",
              "    <tr>\n",
              "      <th>max</th>\n",
              "      <td>9989368264</td>\n",
              "    </tr>\n",
              "  </tbody>\n",
              "</table>\n",
              "</div>"
            ],
            "text/plain": [
              "         mobile\n",
              "min  1958194192\n",
              "max  9989368264"
            ]
          },
          "execution_count": 9,
          "metadata": {},
          "output_type": "execute_result"
        }
      ],
      "source": [
        "import pandas as pd\n",
        "a = pd.read_csv('C:\\\\Users\\LENOVO\\OneDrive\\Desktop\\data.csv')\n",
        "a[:10]\n",
        "a.aggregate({'mobile':['min','max']})"
      ]
    },
    {
      "cell_type": "code",
      "execution_count": null,
      "id": "3cafde6b",
      "metadata": {
        "id": "3cafde6b",
        "outputId": "ba85bdb1-c9fa-41ea-cab9-999c302a9392"
      },
      "outputs": [
        {
          "name": "stdout",
          "output_type": "stream",
          "text": [
            "<class 'pandas.core.groupby.generic.DataFrameGroupBy'>\n",
            "                         0                                                  1\n",
            "0        (Dvs, 9874581585)     s.no Name  age      mobile         mail  Un...\n",
            "1    (aravind, 7780442088)     s.no     Name  age      mobile         mail...\n",
            "2       (banu, 3563726372)     s.no  Name  age      mobile         mail  U...\n",
            "3      (bhagy, 8294629163)     s.no   Name  age      mobile         mail  ...\n",
            "4     (chaitu, 7780442077)     s.no    Name  age      mobile         mail ...\n",
            "5     (charan, 9784143538)      s.no    Name  age      mobile         mail...\n",
            "6    (dhanush, 9989348838)      s.no     Name  age      mobile         mai...\n",
            "7    (doremon, 9162549145)      s.no     Name  age      mobile         mai...\n",
            "8      (hari , 1958194192)      s.no   Name  age      mobile         mail ...\n",
            "9    (harsha , 7780442011)     s.no     Name  age      mobile         mail...\n",
            "10   (jayanth, 9374683654)      s.no     Name  age      mobile         mai...\n",
            "11   (karthik, 9875638271)     s.no     Name  age      mobile         mail...\n",
            "12     (kiran, 4729346292)      s.no   Name  age      mobile         mail ...\n",
            "13    (mukesh, 9135926954)      s.no    Name  age      mobile         mail...\n",
            "14    (nithin, 2738263826)     s.no    Name  age      mobile         mail ...\n",
            "15      (para, 9641586458)      s.no  Name  age      mobile         mail  ...\n",
            "16    (partiv, 9126551955)      s.no    Name  age      mobile         mail...\n",
            "17     (pavan, 8341287189)      s.no   Name  age      mobile         mail ...\n",
            "18     (phani, 9135693591)      s.no   Name  age      mobile         mail ...\n",
            "19  (prabhas , 7981769148)      s.no      Name  age      mobile         ma...\n",
            "20   (pranav , 9989368264)      s.no     Name  age      mobile         mai...\n",
            "21      (puli, 8982773628)     s.no  Name  age      mobile         mail  U...\n",
            "22      (sai , 8631458537)      s.no  Name  age      mobile         mail  ...\n",
            "23   (sandeep, 9163518458)      s.no     Name  age      mobile         mai...\n",
            "24    (sativk, 9361836173)      s.no    Name  age      mobile         mail...\n",
            "25   (sumanth, 6382936237)     s.no     Name  age      mobile         mail...\n",
            "26     (surya, 9495419516)      s.no   Name  age      mobile         mail ...\n",
            "27     (tarun, 9273461836)      s.no   Name  age      mobile         mail ...\n",
            "28     (varun, 8193728361)      s.no   Name  age      mobile         mail ...\n",
            "29    (vikey , 9156359126)      s.no    Name  age      mobile         mail...\n"
          ]
        }
      ],
      "source": [
        "import pandas as vk\n",
        "a = vk.read_csv('C:\\\\Users\\LENOVO\\OneDrive\\Desktop\\data.csv')\n",
        "a = a.groupby(['Name','mobile'])\n",
        "print(type(a))\n",
        "print(vk.DataFrame(a))"
      ]
    }
  ],
  "metadata": {
    "kernelspec": {
      "display_name": "Python 3 (ipykernel)",
      "language": "python",
      "name": "python3"
    },
    "language_info": {
      "codemirror_mode": {
        "name": "ipython",
        "version": 3
      },
      "file_extension": ".py",
      "mimetype": "text/x-python",
      "name": "python",
      "nbconvert_exporter": "python",
      "pygments_lexer": "ipython3",
      "version": "3.9.7"
    },
    "colab": {
      "name": "File Handling (2).ipynb",
      "provenance": [],
      "include_colab_link": true
    }
  },
  "nbformat": 4,
  "nbformat_minor": 5
}