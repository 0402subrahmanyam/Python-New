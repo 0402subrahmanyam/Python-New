{
  "nbformat": 4,
  "nbformat_minor": 0,
  "metadata": {
    "colab": {
      "name": "RegExipynb",
      "provenance": [],
      "collapsed_sections": [],
      "authorship_tag": "ABX9TyOUEozWTYKqyZk697O5Jt58",
      "include_colab_link": true
    },
    "kernelspec": {
      "name": "python3",
      "display_name": "Python 3"
    },
    "language_info": {
      "name": "python"
    }
  },
  "cells": [
    {
      "cell_type": "markdown",
      "metadata": {
        "id": "view-in-github",
        "colab_type": "text"
      },
      "source": [
        "<a href=\"https://colab.research.google.com/github/0402subrahmanyam/Python-New/blob/Module-5/RegExipynb.ipynb\" target=\"_parent\"><img src=\"https://colab.research.google.com/assets/colab-badge.svg\" alt=\"Open In Colab\"/></a>"
      ]
    },
    {
      "cell_type": "code",
      "source": [
        "import re\n",
        "txt=\"I am dvs studying in gitam\"\n",
        "x=re.search(\"dvs\",txt)\n",
        "if x:\n",
        "  print(\"We Have A Match\")\n",
        "else:\n",
        "  print(\"No Match\")"
      ],
      "metadata": {
        "colab": {
          "base_uri": "https://localhost:8080/"
        },
        "id": "fUcn0N-NLuDj",
        "outputId": "2840d7fe-d9f3-4328-fd55-c4a4a8c40401"
      },
      "execution_count": null,
      "outputs": [
        {
          "output_type": "stream",
          "name": "stdout",
          "text": [
            "We Have A Match\n"
          ]
        }
      ]
    },
    {
      "cell_type": "code",
      "source": [
        "## findall\n",
        "import re\n",
        "txt=\"What is Flutter used for? Flutter is Google's free and open-source UI framework for creating native mobile applications. Released in 2017, Flutter allows developers to build mobile applications with a single codebase and programming language. This capability makes building both iOS and Android apps simpler and faster\"\n",
        "x=re.findall(\"is\",txt)\n",
        "print(x)"
      ],
      "metadata": {
        "colab": {
          "base_uri": "https://localhost:8080/"
        },
        "id": "G0PyQDBPLv1A",
        "outputId": "7e0f8245-f5e3-4710-8fb9-b8bd5bb5dc80"
      },
      "execution_count": null,
      "outputs": [
        {
          "output_type": "stream",
          "name": "stdout",
          "text": [
            "['is', 'is', 'is']\n"
          ]
        }
      ]
    },
    {
      "cell_type": "code",
      "source": [
        "## findall if there is no txt in the sentence\n",
        "import re\n",
        "txt = \"What is Flutter used for? Flutter is Google's free and open-source UI framework for creating native mobile applications. Released in 2017, Flutter allows developers to build mobile applications with a single codebase and programming language. This capability makes building both iOS and Android apps simpler and faster\"\n",
        "x = re.findall(\"allu arjun\", txt)\n",
        "print(x)\n",
        "if (x):\n",
        "  print(\"Yes matched\")\n",
        "else:\n",
        "  print(\"No match\")\n"
      ],
      "metadata": {
        "colab": {
          "base_uri": "https://localhost:8080/"
        },
        "id": "l9whCsXpNden",
        "outputId": "07e42287-1f53-460a-a90a-8e77ba3ea6cc"
      },
      "execution_count": null,
      "outputs": [
        {
          "output_type": "stream",
          "name": "stdout",
          "text": [
            "[]\n",
            "No match\n"
          ]
        }
      ]
    },
    {
      "cell_type": "code",
      "source": [
        "## finding a word from a sentence\n",
        "import re\n",
        "txt = \"What is Flutter used for? Flutter is Google's free and open-source UI framework for creating native mobile applications. Released in 2017, Flutter allows developers to build mobile applications with a single codebase and programming language. This capability makes building both iOS and Android apps simpler and faster\"\n",
        "x = re.search(\"This\", txt)\n",
        "print(x)"
      ],
      "metadata": {
        "colab": {
          "base_uri": "https://localhost:8080/"
        },
        "id": "N9CIJdvrOFR7",
        "outputId": "23f19cde-f0ff-4f0e-b1ab-e1442a08eb1e"
      },
      "execution_count": null,
      "outputs": [
        {
          "output_type": "stream",
          "name": "stdout",
          "text": [
            "<re.Match object; span=(243, 247), match='This'>\n"
          ]
        }
      ]
    },
    {
      "cell_type": "code",
      "source": [
        "## split the sentence into words\n",
        "import re\n",
        "txt = \"What is Flutter used for? Flutter is Google's free and open-source UI framework for creating native mobile applications. Released in 2017, Flutter allows developers to build mobile applications with a single codebase and programming language. This capability makes building both iOS and Android apps simpler and faster\"\n",
        "x = re.split(\"\\s\", txt)\n",
        "print(x)\n"
      ],
      "metadata": {
        "colab": {
          "base_uri": "https://localhost:8080/"
        },
        "id": "WFinpOZqQxFQ",
        "outputId": "75835bb6-3499-4a11-a12c-5d7f9332e525"
      },
      "execution_count": null,
      "outputs": [
        {
          "output_type": "stream",
          "name": "stdout",
          "text": [
            "['What', 'is', 'Flutter', 'used', 'for?', 'Flutter', 'is', \"Google's\", 'free', 'and', 'open-source', 'UI', 'framework', 'for', 'creating', 'native', 'mobile', 'applications.', 'Released', 'in', '2017,', 'Flutter', 'allows', 'developers', 'to', 'build', 'mobile', 'applications', 'with', 'a', 'single', 'codebase', 'and', 'programming', 'language.', 'This', 'capability', 'makes', 'building', 'both', 'iOS', 'and', 'Android', 'apps', 'simpler', 'and', 'faster']\n"
          ]
        }
      ]
    },
    {
      "cell_type": "code",
      "source": [
        "## split the sentence into words with certain range\n",
        "import re\n",
        "txt =\"What is Flutter used for? Flutter is Google's free and open-source UI framework for creating native mobile applications. Released in 2017, Flutter allows developers to build mobile applications with a single codebase and programming language. This capability makes building both iOS and Android apps simpler and faster\"\n",
        "x = re.split(\"\\s\", txt, 3)\n",
        "print(x)"
      ],
      "metadata": {
        "colab": {
          "base_uri": "https://localhost:8080/"
        },
        "id": "zs_y2DCASkLp",
        "outputId": "09588a84-fceb-46a5-8f8c-7b3dc8c56bdd"
      },
      "execution_count": null,
      "outputs": [
        {
          "output_type": "stream",
          "name": "stdout",
          "text": [
            "['What', 'is', 'Flutter', \"used for? Flutter is Google's free and open-source UI framework for creating native mobile applications. Released in 2017, Flutter allows developers to build mobile applications with a single codebase and programming language. This capability makes building both iOS and Android apps simpler and faster\"]\n"
          ]
        }
      ]
    },
    {
      "cell_type": "code",
      "source": [
        "## adding or sub any character or a number in middle of every word\n",
        "import re\n",
        "txt = \"What is Flutter used for? Flutter is Google's free and open-source UI framework for creating native mobile applications. Released in 2017, Flutter allows developers to build mobile applications with a single codebase and programming language. This capability makes building both iOS and Android apps simpler and faster\"\n",
        "x = re.sub(\"\\s\", \"2\", txt)\n",
        "print(x)"
      ],
      "metadata": {
        "colab": {
          "base_uri": "https://localhost:8080/"
        },
        "id": "nKflXYiNSvyd",
        "outputId": "71761922-6caa-42be-99a7-2ed15bbe480c"
      },
      "execution_count": 1,
      "outputs": [
        {
          "output_type": "stream",
          "name": "stdout",
          "text": [
            "What2is2Flutter2used2for?2Flutter2is2Google's2free2and2open-source2UI2framework2for2creating2native2mobile2applications.2Released2in22017,2Flutter2allows2developers2to2build2mobile2applications2with2a2single2codebase2and2programming2language.2This2capability2makes2building2both2iOS2and2Android2apps2simpler2and2faster\n"
          ]
        }
      ]
    },
    {
      "cell_type": "code",
      "source": [
        "## Write a Python program to check that a string contains only a certain set of characters (in this case a-z, A-Z and 0-9)\n",
        "import re\n",
        "txt = \"What is Flutter used for? Flutter is Google's free and open-source UI framework for creating native mobile applications. Released in 2017, Flutter allows developers to build mobile applications with a single codebase and programming language. This capability makes building both iOS and Android apps simpler and faster\"\n",
        "x = re.findall(\"\\w\", txt)\n",
        "\n",
        "print(x)\n",
        "\n",
        "if x:\n",
        "  print(\"Yes, there is at least one match!\")\n",
        "else:\n",
        "  print(\"No match\")\n",
        "\n"
      ],
      "metadata": {
        "colab": {
          "base_uri": "https://localhost:8080/"
        },
        "id": "ym6P1GOB2iO2",
        "outputId": "a7a30ba7-2bfc-45f7-b8c1-52833ba0c3c4"
      },
      "execution_count": 5,
      "outputs": [
        {
          "output_type": "stream",
          "name": "stdout",
          "text": [
            "['W', 'h', 'a', 't', 'i', 's', 'F', 'l', 'u', 't', 't', 'e', 'r', 'u', 's', 'e', 'd', 'f', 'o', 'r', 'F', 'l', 'u', 't', 't', 'e', 'r', 'i', 's', 'G', 'o', 'o', 'g', 'l', 'e', 's', 'f', 'r', 'e', 'e', 'a', 'n', 'd', 'o', 'p', 'e', 'n', 's', 'o', 'u', 'r', 'c', 'e', 'U', 'I', 'f', 'r', 'a', 'm', 'e', 'w', 'o', 'r', 'k', 'f', 'o', 'r', 'c', 'r', 'e', 'a', 't', 'i', 'n', 'g', 'n', 'a', 't', 'i', 'v', 'e', 'm', 'o', 'b', 'i', 'l', 'e', 'a', 'p', 'p', 'l', 'i', 'c', 'a', 't', 'i', 'o', 'n', 's', 'R', 'e', 'l', 'e', 'a', 's', 'e', 'd', 'i', 'n', '2', '0', '1', '7', 'F', 'l', 'u', 't', 't', 'e', 'r', 'a', 'l', 'l', 'o', 'w', 's', 'd', 'e', 'v', 'e', 'l', 'o', 'p', 'e', 'r', 's', 't', 'o', 'b', 'u', 'i', 'l', 'd', 'm', 'o', 'b', 'i', 'l', 'e', 'a', 'p', 'p', 'l', 'i', 'c', 'a', 't', 'i', 'o', 'n', 's', 'w', 'i', 't', 'h', 'a', 's', 'i', 'n', 'g', 'l', 'e', 'c', 'o', 'd', 'e', 'b', 'a', 's', 'e', 'a', 'n', 'd', 'p', 'r', 'o', 'g', 'r', 'a', 'm', 'm', 'i', 'n', 'g', 'l', 'a', 'n', 'g', 'u', 'a', 'g', 'e', 'T', 'h', 'i', 's', 'c', 'a', 'p', 'a', 'b', 'i', 'l', 'i', 't', 'y', 'm', 'a', 'k', 'e', 's', 'b', 'u', 'i', 'l', 'd', 'i', 'n', 'g', 'b', 'o', 't', 'h', 'i', 'O', 'S', 'a', 'n', 'd', 'A', 'n', 'd', 'r', 'o', 'i', 'd', 'a', 'p', 'p', 's', 's', 'i', 'm', 'p', 'l', 'e', 'r', 'a', 'n', 'd', 'f', 'a', 's', 't', 'e', 'r']\n",
            "Yes, there is at least one match!\n"
          ]
        }
      ]
    }
  ]
}