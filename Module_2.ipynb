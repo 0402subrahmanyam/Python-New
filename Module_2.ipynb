{
  "nbformat": 4,
  "nbformat_minor": 0,
  "metadata": {
    "colab": {
      "name": "Module 2.ipynb",
      "provenance": [],
      "collapsed_sections": [],
      "authorship_tag": "ABX9TyPcsI1vlBn2JZQ71pjw9IcO",
      "include_colab_link": true
    },
    "kernelspec": {
      "name": "python3",
      "display_name": "Python 3"
    },
    "language_info": {
      "name": "python"
    }
  },
  "cells": [
    {
      "cell_type": "markdown",
      "metadata": {
        "id": "view-in-github",
        "colab_type": "text"
      },
      "source": [
        "<a href=\"https://colab.research.google.com/github/0402subrahmanyam/Python-New/blob/module-2/Module_2.ipynb\" target=\"_parent\"><img src=\"https://colab.research.google.com/assets/colab-badge.svg\" alt=\"Open In Colab\"/></a>"
      ]
    },
    {
      "cell_type": "code",
      "execution_count": null,
      "metadata": {
        "colab": {
          "base_uri": "https://localhost:8080/"
        },
        "id": "cVqlAnuvoZk8",
        "outputId": "680bb58f-a116-466f-dcad-9a55f08b2a8e"
      },
      "outputs": [
        {
          "output_type": "stream",
          "name": "stdout",
          "text": [
            "5\n",
            "2\n",
            "10\n"
          ]
        }
      ],
      "source": [
        "#create a function which accepts two inputs from the user and compute ncr\n",
        "def nCr(a,b):\n",
        "  return(fact(a)/(fact(b)\n",
        "                 *fact(a-b)))\n",
        "a=int(input(\"\"))\n",
        "b=int(input(\"\"))\n",
        "def fact(a):\n",
        "  res=1\n",
        "  for i in range(2,a+1):\n",
        "   res=res*i\n",
        "  return res\n",
        "print(int(nCr(a,b)))"
      ]
    },
    {
      "cell_type": "code",
      "source": [
        "## Recursive function to compute GCD of 2 numbers\n",
        "def GCD(x,y):\n",
        " r=x%y\n",
        " if(r==0):\n",
        "    return y\n",
        " else:\n",
        "  return GCD(y,r)\n",
        "a= int(input(\"Enter the first number :\"))\n",
        "b= int(input(\"Enter the second number :\"))\n",
        "print(\"The GCD of two numbers is:\", GCD(a,b)) "
      ],
      "metadata": {
        "id": "yCr1eFE_sbwZ",
        "colab": {
          "base_uri": "https://localhost:8080/"
        },
        "outputId": "bb98827b-cf15-4148-d544-ac020b115a47"
      },
      "execution_count": null,
      "outputs": [
        {
          "output_type": "stream",
          "name": "stdout",
          "text": [
            "Enter the first number :2\n",
            "Enter the second number :2\n",
            "The GCD of two numbers is: 2\n"
          ]
        }
      ]
    },
    {
      "cell_type": "code",
      "source": [
        "## Recursive function to find product of two numbers\n",
        "def prod(x,y):\n",
        " if(x==1):\n",
        "    return y\n",
        " elif(y==1):\n",
        "   return x\n",
        " else:\n",
        "   return x*y\n",
        "a= int(input(\"Enter the first number :\"))\n",
        "b= int(input(\"Enter the second number :\"))\n",
        "print(\"The product of two numbers is:\", prod(a,b))"
      ],
      "metadata": {
        "colab": {
          "base_uri": "https://localhost:8080/"
        },
        "id": "7YpfLg0e7oso",
        "outputId": "22f1c7e6-ecd3-4862-fa54-b5a956db4a2e"
      },
      "execution_count": null,
      "outputs": [
        {
          "output_type": "stream",
          "name": "stdout",
          "text": [
            "Enter the first number :2\n",
            "Enter the second number :2\n",
            "The product of two numbers is: 4\n"
          ]
        }
      ]
    },
    {
      "cell_type": "code",
      "source": [
        "## Recursive function to generate Fibonacci series\n",
        "def fib(n):\n",
        " if n <= 1:\n",
        "  return n\n",
        " else:\n",
        "  return(fib(n-1) + fib(n-2))\n",
        "nterms =int(input(\"enter the number of terms\"))\n",
        "if nterms <= 0:\n",
        " print(\"Plese enter a positive integer\")\n",
        "else:\n",
        " print(\"Fibonacci sequence:\")\n",
        " for i in range(nterms):\n",
        "  print(fib(i))\n"
      ],
      "metadata": {
        "colab": {
          "base_uri": "https://localhost:8080/"
        },
        "id": "ODWjxV9S8F8i",
        "outputId": "fa6fb97d-ae7b-4ca3-d60d-15f9d63f5ee6"
      },
      "execution_count": null,
      "outputs": [
        {
          "output_type": "stream",
          "name": "stdout",
          "text": [
            "enter the number of terms2\n",
            "Fibonacci sequence:\n",
            "0\n",
            "1\n"
          ]
        }
      ]
    },
    {
      "cell_type": "code",
      "source": [
        "## Program to find the second smallest number and second largest number in a list\n",
        "def find_len(list1):\n",
        "    length = len(list1)\n",
        "    list1.sort()\n",
        "    print(\"Second Largest element is:\", list1[length-2])\n",
        "    print(\"Second Smallest element is:\", list1[1])\n",
        "list1=[12, 45, 2, 41, 31, 10, 8, 6, 4]\n",
        "Largest = find_len(list1)"
      ],
      "metadata": {
        "colab": {
          "base_uri": "https://localhost:8080/"
        },
        "id": "WWsvyT7p8NQf",
        "outputId": "19df8ebe-ceea-4d24-e439-95bf3248ff1a"
      },
      "execution_count": null,
      "outputs": [
        {
          "output_type": "stream",
          "name": "stdout",
          "text": [
            "Second Largest element is: 41\n",
            "Second Smallest element is: 4\n"
          ]
        }
      ]
    },
    {
      "cell_type": "code",
      "source": [
        "## Program to print a specified list after removing the 0th, 4th and 5th elements.\n",
        "## Sample List : ['Red', 'Green', 'White', 'Black', 'Pink', 'Yellow'] \n",
        "a=['Red', 'Green', 'White', 'Black', 'Pink', 'Yellow']\n",
        "del a[5]\n",
        "del a[4]\n",
        "del a[0]\n",
        "print(a)"
      ],
      "metadata": {
        "colab": {
          "base_uri": "https://localhost:8080/"
        },
        "id": "0XZ1m2eVAWKl",
        "outputId": "7122cf8a-0a7b-40a0-c1b4-93c09af3d121"
      },
      "execution_count": null,
      "outputs": [
        {
          "output_type": "stream",
          "name": "stdout",
          "text": [
            "['Green', 'White', 'Black']\n"
          ]
        }
      ]
    },
    {
      "cell_type": "code",
      "source": [
        "## Program to get the difference between the two lists\n",
        "list1 = [1, 3, 5, 7, 9]\n",
        "list2=[1, 2, 4, 6, 7, 8]\n",
        "diff_list1_list2 = list(set(list1) - set(list2))\n",
        "diff_list2_list1 = list(set(list2) - set(list1))\n",
        "total_diff = diff_list1_list2 + diff_list2_list1\n",
        "print(total_diff)\n"
      ],
      "metadata": {
        "colab": {
          "base_uri": "https://localhost:8080/"
        },
        "id": "cdtBxnJQAsl1",
        "outputId": "e04f08d6-5832-4436-b9d1-32f28a4f6371"
      },
      "execution_count": null,
      "outputs": [
        {
          "output_type": "stream",
          "name": "stdout",
          "text": [
            "[9, 3, 5, 8, 2, 4, 6]\n"
          ]
        }
      ]
    },
    {
      "cell_type": "code",
      "source": [
        "## Program to find the second smallest number and second largest number in a list.\n",
        "c=[85,55,852,633,88]\n",
        "c.sort()\n",
        "print(a)\n",
        "print(\"The second largest element in the list is:\",c[-2])\n",
        "print(\"The second smallest element in the list is:\",c[1])\n"
      ],
      "metadata": {
        "colab": {
          "base_uri": "https://localhost:8080/"
        },
        "id": "6ZOn1SLpAxBN",
        "outputId": "efdf61bd-96e3-493f-c811-b438a114ae86"
      },
      "execution_count": null,
      "outputs": [
        {
          "output_type": "stream",
          "name": "stdout",
          "text": [
            "[23, 43, 64, 87, 433]\n",
            "The second largest element in the list is: 633\n",
            "The second smallest element in the list is: 85\n"
          ]
        }
      ]
    },
    {
      "cell_type": "code",
      "source": [
        "## Given a list of numbers of list, write a Python program to create a list of tuples having first element as the number and second element as the square of the number\n",
        "dvs=[89,55,65,85,86]\n",
        "print(dvs)\n",
        "print(\"The list of tuples is:\")\n",
        "res=[(x,pow(x,2)) for x in dvs ]\n",
        "print(res)\n"
      ],
      "metadata": {
        "colab": {
          "base_uri": "https://localhost:8080/"
        },
        "id": "jva-9KMSCIWM",
        "outputId": "fc3b1e41-15b4-4f1e-a7a6-dd27de068dc5"
      },
      "execution_count": null,
      "outputs": [
        {
          "output_type": "stream",
          "name": "stdout",
          "text": [
            "[89, 55, 65, 85, 86]\n",
            "The list of tuples is:\n",
            "[(89, 7921), (55, 3025), (65, 4225), (85, 7225), (86, 7396)]\n"
          ]
        }
      ]
    },
    {
      "cell_type": "code",
      "source": [
        "## Given list of tuples, remove all the tuples with length K\n",
        "dvs=[(89, 7921), (55, 3025), (65, 4225), (85, 7225), (86, 7396)]\n",
        "print(dvs)\n",
        "k=2\n",
        "print(k)\n",
        "you=[x for x in dvs if len(x) !=k]\n",
        "print(you)"
      ],
      "metadata": {
        "colab": {
          "base_uri": "https://localhost:8080/"
        },
        "id": "DUnSQcj_Ckfo",
        "outputId": "1303f32d-aa8b-4b32-ee82-8c423f082fc4"
      },
      "execution_count": null,
      "outputs": [
        {
          "output_type": "stream",
          "name": "stdout",
          "text": [
            "[(89, 7921), (55, 3025), (65, 4225), (85, 7225), (86, 7396)]\n",
            "2\n",
            "[]\n"
          ]
        }
      ]
    },
    {
      "cell_type": "code",
      "source": [
        "## Program to generate and print a dictionary that contains a number (between 1 and n) in the form (x, x*x)\n",
        "n=int(input(\"Enter a number\"))\n",
        "h=dict()\n",
        "for x in range(1,n+1):\n",
        " h[x]=x*x\n",
        "print(h)"
      ],
      "metadata": {
        "colab": {
          "base_uri": "https://localhost:8080/"
        },
        "id": "bv14pAX8MRrd",
        "outputId": "580df911-523a-4a27-c69d-459d576c510f"
      },
      "execution_count": null,
      "outputs": [
        {
          "output_type": "stream",
          "name": "stdout",
          "text": [
            "Enter a number6\n",
            "{1: 1, 2: 4, 3: 9, 4: 16, 5: 25, 6: 36}\n"
          ]
        }
      ]
    },
    {
      "cell_type": "code",
      "source": [
        "## Program to remove a key from a dictionary\n",
        "dvs={\n",
        "\"song\":\"kalavathi\",\n",
        "\"movie\":\"svp\",\n",
        "\"singers\":\"sid sriram\",\n",
        "\"Release date\":2022\n",
        "}\n",
        "dvs.pop(\"singers\")\n",
        "print(dvs)"
      ],
      "metadata": {
        "colab": {
          "base_uri": "https://localhost:8080/"
        },
        "id": "acmBldbPM4Zn",
        "outputId": "e9dd5090-6755-4fd3-c869-a1d9fc92188d"
      },
      "execution_count": null,
      "outputs": [
        {
          "output_type": "stream",
          "name": "stdout",
          "text": [
            "{'song': 'kalavathi', 'movie': 'svp', 'Release date': 2022}\n"
          ]
        }
      ]
    },
    {
      "cell_type": "code",
      "source": [
        "## Program to get the maximum and minimum value in a dictionary.\n",
        "dvs={\n",
        "\"a\":87,\n",
        "\"b\":74,\n",
        "\"c\":85,\n",
        "\"d\":8\n",
        "}\n",
        "maxim_value=max(dvs,key=dvs.get)\n",
        "min_value=min(dvs,key=dvs.get)\n",
        "print(\"The maximum value in the dictionary is\")\n",
        "print(maxim_value,\":\",dvs[maxim_value])\n",
        "print(\"The minimum value in the dictionary is\")\n",
        "print(min_value,\":\",dvs[min_value])"
      ],
      "metadata": {
        "colab": {
          "base_uri": "https://localhost:8080/"
        },
        "id": "gdcQk-G8NcIy",
        "outputId": "11d65850-f7ae-4f9f-e646-a743251888e5"
      },
      "execution_count": null,
      "outputs": [
        {
          "output_type": "stream",
          "name": "stdout",
          "text": [
            "The maximum value in the dictionary is\n",
            "a : 87\n",
            "The minimum value in the dictionary is\n",
            "d : 8\n"
          ]
        }
      ]
    },
    {
      "cell_type": "code",
      "source": [
        "## Program to perform operations on string using unicodes ,splitting of string,accessing elements of string using locations\n",
        "dvs=input(\"Enter a string:\")\n",
        "a=dvs.split()\n",
        "print(a)\n",
        "print(dvs[8:74])"
      ],
      "metadata": {
        "colab": {
          "base_uri": "https://localhost:8080/"
        },
        "id": "YvcAKQrxOPFY",
        "outputId": "b7b5e10d-39b1-458a-f6e3-282ab1370138"
      },
      "execution_count": null,
      "outputs": [
        {
          "output_type": "stream",
          "name": "stdout",
          "text": [
            "Enter a string:87\n",
            "['87']\n",
            "\n"
          ]
        }
      ]
    },
    {
      "cell_type": "code",
      "source": [
        "## Program for Counting occurrence of a certain element in a string, getting indexes that have matching elements\n",
        "a=\"cat\"\n",
        "print(\"In cab \\\"b\\\" has repeated\",a.count(\"b\"),\"times\")\n",
        "x=\"I have to go to a doctor and get myself checked\"\n",
        "print(\"In the above sentence \\\"to\\\" has repeated\",x.count(\"to\"),\"times\")"
      ],
      "metadata": {
        "colab": {
          "base_uri": "https://localhost:8080/"
        },
        "id": "azizJIxYPLy1",
        "outputId": "f21d6b9e-9c1a-4aa1-b4cc-e51efc0bd0ff"
      },
      "execution_count": null,
      "outputs": [
        {
          "output_type": "stream",
          "name": "stdout",
          "text": [
            "In cab \"b\" has repeated 0 times\n",
            "In the above sentence \"to\" has repeated 3 times\n"
          ]
        }
      ]
    },
    {
      "cell_type": "code",
      "source": [
        "## Program for replacing one substring by another\n",
        "dvs=\"cat\"\n",
        "print(dvs.replace(\"bb\",\"cc\"))"
      ],
      "metadata": {
        "colab": {
          "base_uri": "https://localhost:8080/"
        },
        "id": "yQPfcUKqPfh4",
        "outputId": "85d9bbef-bb56-46ba-887d-7357bd2db87e"
      },
      "execution_count": null,
      "outputs": [
        {
          "output_type": "stream",
          "name": "stdout",
          "text": [
            "cat\n"
          ]
        }
      ]
    },
    {
      "cell_type": "code",
      "source": [
        "## Program to Acronym generator for any user input\n",
        "a=\"Read Only Memory\"\n",
        "acr=\"\"\n",
        "for x in a:\n",
        " if x.isupper():\n",
        "  acr=acr+x\n",
        "print(acr)"
      ],
      "metadata": {
        "colab": {
          "base_uri": "https://localhost:8080/"
        },
        "id": "VLROOdv6PwHU",
        "outputId": "0f1d4df3-94f9-41b5-a232-d3d657870d60"
      },
      "execution_count": null,
      "outputs": [
        {
          "output_type": "stream",
          "name": "stdout",
          "text": [
            "ROM\n"
          ]
        }
      ]
    },
    {
      "cell_type": "code",
      "source": [
        "## Python function that accepts a string and calculates the number of uppercase letters and lowercase letters\n",
        "a=\"Open The Book\"\n",
        "upp=0\n",
        "low=0\n",
        "for x in a:\n",
        " if x.isupper():\n",
        "   upp=upp+1\n",
        " elif x.islower():\n",
        "  low=low+1\n",
        "else:\n",
        " pass\n",
        "print(\"No of upper case letters are:\",upp)\n",
        "print(\"No of lower case letters are:\",low)\n"
      ],
      "metadata": {
        "colab": {
          "base_uri": "https://localhost:8080/"
        },
        "id": "qYG_LpAkTUoh",
        "outputId": "f2f99f57-d379-4187-8ad9-81ee30cadbf0"
      },
      "execution_count": null,
      "outputs": [
        {
          "output_type": "stream",
          "name": "stdout",
          "text": [
            "No of upper case letters are: 3\n",
            "No of lower case letters are: 8\n"
          ]
        }
      ]
    },
    {
      "cell_type": "code",
      "source": [
        "## Program to count the number of strings where the string length is 2 or more and the first and last character are same from a given list of strings\n",
        "dvs= ['abc', 'xyz', 'gfs', '5952']\n",
        "count=0\n",
        "for x in dvs:\n",
        " if len(x)>1 and x[0]==x[-1]:\n",
        "  print(\"The wanted strings are:\",x)\n",
        "count=count+1\n",
        "print(\"The number of strings with given conditions are:\",count)"
      ],
      "metadata": {
        "colab": {
          "base_uri": "https://localhost:8080/"
        },
        "id": "EmtqC87yTzvh",
        "outputId": "a0616c6f-101b-4e54-9d39-1c95b90e2b78"
      },
      "execution_count": null,
      "outputs": [
        {
          "output_type": "stream",
          "name": "stdout",
          "text": [
            "The number of strings with given conditions are: 1\n"
          ]
        }
      ]
    }
  ]
}