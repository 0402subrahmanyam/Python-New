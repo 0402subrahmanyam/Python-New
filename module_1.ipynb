{
  "nbformat": 4,
  "nbformat_minor": 0,
  "metadata": {
    "colab": {
      "name": "module 1.ipynb",
      "provenance": [],
      "collapsed_sections": [],
      "authorship_tag": "ABX9TyOAZrur6N50ODgRZayyeJJ1",
      "include_colab_link": true
    },
    "kernelspec": {
      "name": "python3",
      "display_name": "Python 3"
    },
    "language_info": {
      "name": "python"
    }
  },
  "cells": [
    {
      "cell_type": "markdown",
      "metadata": {
        "id": "view-in-github",
        "colab_type": "text"
      },
      "source": [
        "<a href=\"https://colab.research.google.com/github/0402subrahmanyam/Python-New/blob/module-1/module_1.ipynb\" target=\"_parent\"><img src=\"https://colab.research.google.com/assets/colab-badge.svg\" alt=\"Open In Colab\"/></a>"
      ]
    },
    {
      "cell_type": "code",
      "execution_count": null,
      "metadata": {
        "id": "Ti4E5OAURGCD",
        "colab": {
          "base_uri": "https://localhost:8080/"
        },
        "outputId": "3ff1ce5e-7cbc-4ecd-b5e4-c979e26272cd"
      },
      "outputs": [
        {
          "output_type": "stream",
          "name": "stdout",
          "text": [
            "enter a number22\n",
            "22\n"
          ]
        }
      ],
      "source": [
        "## Accept input from user and store it in variable and print the value\n",
        "a=input(\"enter a number\")\n",
        "print(a)"
      ]
    },
    {
      "cell_type": "code",
      "source": [
        "## Use of print statements and use of  (.format )for printing different data types\n",
        "a=40\n",
        "b=55\n",
        "c=\"hello world\"\n",
        "d=True\n",
        "print(type(a))\n",
        "print(type(b))\n",
        "print(type(c))\n",
        "print(type(d))"
      ],
      "metadata": {
        "colab": {
          "base_uri": "https://localhost:8080/"
        },
        "id": "Z3MiJJx8Su7L",
        "outputId": "5e55bc66-a3d2-490b-cfe6-37ec80fa2863"
      },
      "execution_count": null,
      "outputs": [
        {
          "output_type": "stream",
          "name": "stdout",
          "text": [
            "<class 'int'>\n",
            "<class 'int'>\n",
            "<class 'str'>\n",
            "<class 'bool'>\n"
          ]
        }
      ]
    },
    {
      "cell_type": "code",
      "source": [
        "## Take 2 numbers as user input and add, multiply, divide, subtract, remainder and print the output (Same operations on floating point input as well) \n",
        "a=int(input(\"enter a numbers\"))\n",
        "b=int(input(\"enter a numbers\"))\n",
        "sum=a+b\n",
        "print(sum)\n",
        "mul=a*b\n",
        "print(mul)\n",
        "div=(a/b)\n",
        "print(div)\n",
        "sub=(a-b)\n",
        "print(sub)\n",
        "rem=a%b\n",
        "print(rem)\n"
      ],
      "metadata": {
        "colab": {
          "base_uri": "https://localhost:8080/"
        },
        "id": "zsyRG-ZhTvWw",
        "outputId": "7f043dd6-820e-481d-fb40-0724f2196530"
      },
      "execution_count": null,
      "outputs": [
        {
          "output_type": "stream",
          "name": "stdout",
          "text": [
            "enter a numbers20\n",
            "enter a numbers10\n",
            "30\n",
            "200\n",
            "2.0\n",
            "10\n",
            "0\n"
          ]
        }
      ]
    },
    {
      "cell_type": "code",
      "source": [
        "## Take 2 numbers as user input and add, multiply, divide, subtract, remainder and print the output (Same operations on floating point input as well) \n",
        "a=float(input(\"enter a numbers\"))\n",
        "b=float(input(\"enter a numbers\"))\n",
        "sum=a+b\n",
        "print(sum)\n",
        "mul=a*b\n",
        "print(mul)\n",
        "div=(a/b)\n",
        "print(div)\n",
        "sub=(a-b)\n",
        "print(sub)\n",
        "rem=a%b\n",
        "print(rem)\n"
      ],
      "metadata": {
        "colab": {
          "base_uri": "https://localhost:8080/"
        },
        "id": "6tS9n5VqVGTJ",
        "outputId": "cb75fe8c-bd3f-47a4-e6fc-32c9d10ac3b0"
      },
      "execution_count": null,
      "outputs": [
        {
          "output_type": "stream",
          "name": "stdout",
          "text": [
            "enter a numbers10\n",
            "enter a numbers5\n",
            "15.0\n",
            "50.0\n",
            "2.0\n",
            "5.0\n",
            "0.0\n"
          ]
        }
      ]
    },
    {
      "cell_type": "code",
      "source": [
        "## Conversion of one unit to another (such as hours to minutes, miles to km and etc) \n",
        "## hours to minutes\n",
        "a=int(input(\"enter hours\"))\n",
        "b=a*60\n",
        "print(b)"
      ],
      "metadata": {
        "colab": {
          "base_uri": "https://localhost:8080/"
        },
        "id": "iew2VOsRVaeK",
        "outputId": "ec265cc8-33ff-409a-a573-988ca1744670"
      },
      "execution_count": null,
      "outputs": [
        {
          "output_type": "stream",
          "name": "stdout",
          "text": [
            "enter hours2\n",
            "120\n"
          ]
        }
      ]
    },
    {
      "cell_type": "code",
      "source": [
        "## miles to kms\n",
        "a=int(input(\"enter miles\"))\n",
        "b=a*1.6\n",
        "print(b ,\"kms\")"
      ],
      "metadata": {
        "colab": {
          "base_uri": "https://localhost:8080/"
        },
        "id": "tRgVomU7WO_y",
        "outputId": "32c90f71-7f8c-4660-b004-9da194f2a7fb"
      },
      "execution_count": null,
      "outputs": [
        {
          "output_type": "stream",
          "name": "stdout",
          "text": [
            "enter miles3\n",
            "4.800000000000001 kms\n"
          ]
        }
      ]
    },
    {
      "cell_type": "code",
      "source": [
        "## Usage of mathematical functions in python like math.ceil, floor, fabs, fmod, trunc, pow, sqrt etc. \n",
        "## ceil\n",
        "import math\n",
        "print(math.ceil(1.2))\n",
        "print(math.ceil(4.9))"
      ],
      "metadata": {
        "colab": {
          "base_uri": "https://localhost:8080/"
        },
        "id": "V6jpz_MfYIOv",
        "outputId": "109aa16b-d050-42f6-d511-5b0295011598"
      },
      "execution_count": null,
      "outputs": [
        {
          "output_type": "stream",
          "name": "stdout",
          "text": [
            "2\n",
            "5\n"
          ]
        }
      ]
    },
    {
      "cell_type": "code",
      "source": [
        "## floor\n",
        "import math\n",
        "print(math.ceil(1.2))\n",
        "print(math.ceil(4.9))\n",
        "print(math.floor(1.2))\n",
        "print(math.floor(4.9))"
      ],
      "metadata": {
        "colab": {
          "base_uri": "https://localhost:8080/"
        },
        "id": "IaoOfJT2ZHh_",
        "outputId": "fc0e28d3-bbc6-419b-ca6b-4057a30694c3"
      },
      "execution_count": null,
      "outputs": [
        {
          "output_type": "stream",
          "name": "stdout",
          "text": [
            "2\n",
            "5\n",
            "1\n",
            "4\n"
          ]
        }
      ]
    },
    {
      "cell_type": "code",
      "source": [
        "## fabs\n",
        "import math\n",
        "print(math.ceil(1.2))\n",
        "print(math.ceil(4.9))\n",
        "print(math.floor(1.2))\n",
        "print(math.floor(4.9))\n",
        "print(math.fabs(-1.2))\n",
        "print(math.fabs(-4.9))"
      ],
      "metadata": {
        "id": "EYFcOi14eLMX",
        "outputId": "d5c47263-9195-4d91-b762-25a429e6aa37",
        "colab": {
          "base_uri": "https://localhost:8080/"
        }
      },
      "execution_count": null,
      "outputs": [
        {
          "output_type": "stream",
          "name": "stdout",
          "text": [
            "2\n",
            "5\n",
            "1\n",
            "4\n",
            "1.2\n",
            "4.9\n"
          ]
        }
      ]
    },
    {
      "cell_type": "code",
      "source": [
        "## sqrt\n",
        "import math\n",
        "a=int(input('enter the value'))\n",
        "print(math.sqrt(4))\n",
        "print(math.trunc(a))"
      ],
      "metadata": {
        "colab": {
          "base_uri": "https://localhost:8080/"
        },
        "id": "cy2_SGA9e41j",
        "outputId": "e6f41dd2-8bb9-4b88-e284-8d488e0cd0f9"
      },
      "execution_count": null,
      "outputs": [
        {
          "output_type": "stream",
          "name": "stdout",
          "text": [
            "enter the value4\n",
            "2.0\n",
            "4\n"
          ]
        }
      ]
    },
    {
      "cell_type": "code",
      "source": [
        "## pow\n",
        "import math\n",
        "a=int(input(\"enter the value\"))\n",
        "b=int(input(\"enter the value\"))\n",
        "print(math.pow(a,b))"
      ],
      "metadata": {
        "colab": {
          "base_uri": "https://localhost:8080/"
        },
        "id": "ivFjoqP7fgEP",
        "outputId": "f469217d-a644-477f-8d2c-0dd23cde1845"
      },
      "execution_count": null,
      "outputs": [
        {
          "output_type": "stream",
          "name": "stdout",
          "text": [
            "enter the value2\n",
            "enter the value2\n",
            "4.0\n"
          ]
        }
      ]
    },
    {
      "cell_type": "code",
      "source": [
        "## Building a mathematical calculator that can perform operations according to user input.Use decision making statement.\n",
        "a=float(input(\"enter number \"))\n",
        "b=float(input(\"enter a number \"))\n",
        "o=input(\"enter opeation\")\n",
        "if o==\"sum\":\n",
        "  print(a+b)\n",
        "elif o==\"subtract\":\n",
        "  print(a-b)\n",
        "elif o==\"product\":\n",
        "  print(a*b)\n",
        "elif o==\"remainder\":\n",
        "  print(a%b)\n",
        "else:\n",
        "  print(a/b)"
      ],
      "metadata": {
        "colab": {
          "base_uri": "https://localhost:8080/"
        },
        "id": "booJLHlzivM_",
        "outputId": "5144a51d-eaff-4e6f-f715-d8f0e4a8cc81"
      },
      "execution_count": null,
      "outputs": [
        {
          "output_type": "stream",
          "name": "stdout",
          "text": [
            "enter number 2\n",
            "enter a number 5\n",
            "enter opeation6\n",
            "0.4\n"
          ]
        }
      ]
    },
    {
      "cell_type": "code",
      "source": [
        "## Accepting 5 different subject marks from user and displaying the grade of the student.\n",
        "s1=float(input('enter the marks'))\n",
        "s2=float(input('enter the marks'))\n",
        "s3=float(input('enter the marks'))\n",
        "s4=float(input('enter the marks'))\n",
        "s5=float(input('enter the marks'))\n",
        "avg=(s1+s2+s3+s4+s5)/5\n",
        "if avg>=90:\n",
        "  print(\"a grade\")\n",
        "elif avg>=80:\n",
        "  print(\"b grade\")\n",
        "elif avg>=70:\n",
        "  print(\"c grade\")\n",
        "elif avg>=60:\n",
        "  print(\"d grade\")\n",
        "else:\n",
        "  print(\"fail\")\n",
        "\n",
        "\n"
      ],
      "metadata": {
        "colab": {
          "base_uri": "https://localhost:8080/"
        },
        "id": "Y6x1LTBnjIe2",
        "outputId": "f5e98ab3-f309-42fa-88c7-69cd6c972b85"
      },
      "execution_count": null,
      "outputs": [
        {
          "output_type": "stream",
          "name": "stdout",
          "text": [
            "enter the marks98\n",
            "enter the marks87\n",
            "enter the marks95\n",
            "enter the marks63\n",
            "enter the marks83\n",
            "b grade\n"
          ]
        }
      ]
    },
    {
      "cell_type": "code",
      "source": [
        "## Printing all even numbers, odd numbers, count of even numbers, count of odd numbers\n",
        "#within a given range.\n",
        "n=int(input(\"enter range \"))\n",
        "c=0\n",
        "for i in range(1,n+1):\n",
        " if i%2==0:\n",
        "   c+=1\n",
        "   print(i)\n",
        "\n",
        "\n",
        "print(\"even count is \",c)\n",
        "\n",
        "d=0\n",
        "for i in range(1,n+1):\n",
        "  if i%2!=0: \n",
        "    d+=1\n",
        "    print(i)\n",
        "\n",
        "print(\"odd count is \",d)"
      ],
      "metadata": {
        "colab": {
          "base_uri": "https://localhost:8080/"
        },
        "id": "G1aNrhvKl1w1",
        "outputId": "6656e72d-a701-482a-b25b-747a9b5e832a"
      },
      "execution_count": null,
      "outputs": [
        {
          "output_type": "stream",
          "name": "stdout",
          "text": [
            "enter range 4\n",
            "2\n",
            "4\n",
            "even count is  2\n",
            "1\n",
            "3\n",
            "odd count is  2\n"
          ]
        }
      ]
    },
    {
      "cell_type": "code",
      "source": [
        "#Compute the factorial of a given number.\n",
        "n=int(input(\"enter a number \"))\n",
        "fac=1\n",
        "for i in range(1,n+1):\n",
        "  fac=fac*i\n",
        "\n",
        "print(fac)"
      ],
      "metadata": {
        "colab": {
          "base_uri": "https://localhost:8080/"
        },
        "id": "iYm6UHKQmlpl",
        "outputId": "46571527-605b-4bff-dc0c-eba0499b0895"
      },
      "execution_count": null,
      "outputs": [
        {
          "output_type": "stream",
          "name": "stdout",
          "text": [
            "enter a number 89\n",
            "16507955160908461081216919262453619309839666236496541854913520707833171034378509739399912570787600662729080382999756800000000000000000000\n"
          ]
        }
      ]
    },
    {
      "cell_type": "code",
      "source": [
        "## Compute GCD of two given \n",
        "a=int(input(\"enter a number\"))\n",
        "b=int(input(\"enter a number\"))\n",
        "k=a if a<b else b\n",
        "while True:\n",
        "    if a%k==0 and b%k==0:\n",
        "     break\n",
        "    k -=1\n",
        "print(k)"
      ],
      "metadata": {
        "colab": {
          "base_uri": "https://localhost:8080/"
        },
        "id": "yfx9yzBWl13e",
        "outputId": "fc8e22d9-4cf1-4538-e3df-ec6e89903fb1"
      },
      "execution_count": null,
      "outputs": [
        {
          "output_type": "stream",
          "name": "stdout",
          "text": [
            "enter a number9\n",
            "enter a number8\n",
            "1\n"
          ]
        }
      ]
    },
    {
      "cell_type": "code",
      "source": [
        "number=int(input(\"Enter the number :\"))\n",
        "temp=number\n",
        "reverse_num=0\n",
        "while(number>0):\n",
        "    digit=number%10\n",
        "    reverse_num=reverse_num*10+digit\n",
        "    number=number//10\n",
        "if(temp==reverse_num):\n",
        "    print(\"a palindrome\")\n",
        "else:\n",
        "    print(\"Not a palindrome\")"
      ],
      "metadata": {
        "colab": {
          "base_uri": "https://localhost:8080/"
        },
        "id": "9lSaX6tPnPMq",
        "outputId": "b5e0314b-5ff1-4deb-a98f-7d80ed7ea127"
      },
      "execution_count": null,
      "outputs": [
        {
          "output_type": "stream",
          "name": "stdout",
          "text": [
            "Enter the number :202\n",
            "a palindrome\n"
          ]
        }
      ]
    },
    {
      "cell_type": "code",
      "source": [
        "## perfect number\n",
        "n=int(input(\"enter a number\"))\n",
        "a=n\n",
        "sum=0\n",
        "for i in range(1,n):\n",
        "  if (n%i==0):\n",
        "   sum=sum+i\n",
        "if(sum==a):\n",
        "   print(\"perfect number\")\n",
        "else:\n",
        "  print(\"not a perfect number\") "
      ],
      "metadata": {
        "colab": {
          "base_uri": "https://localhost:8080/"
        },
        "id": "ZlZOUDp7Q1Dn",
        "outputId": "4cc65c4b-5b3e-4c23-8b8c-7a7b38d677b4"
      },
      "execution_count": null,
      "outputs": [
        {
          "output_type": "stream",
          "name": "stdout",
          "text": [
            "enter a number28\n",
            "perfect number\n"
          ]
        }
      ]
    }
  ]
}